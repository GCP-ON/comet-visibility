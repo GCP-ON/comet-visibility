{
 "cells": [
  {
   "cell_type": "markdown",
   "id": "e70e0dd6-8db3-40c7-9467-fbcb08014aba",
   "metadata": {},
   "source": [
    "# Comet Visibility \n",
    "\n",
    "This code is made to estimate the number of comets visible at IMPACTON per year by magnitud bins.\n",
    "\n",
    "Visibility is being defined as if the comet reachs Altitud > 30 at least one day in the year.\n",
    "\n",
    "For this calculation, we are getting the current comets list from the MPC"
   ]
  },
  {
   "cell_type": "code",
   "execution_count": 1,
   "id": "5e9ef5aa-ae0e-41d8-a6bd-29ef4f7a5612",
   "metadata": {
    "scrolled": true
   },
   "outputs": [],
   "source": [
    "import requests\n",
    "import re\n",
    "from astroquery.mpc import MPC\n",
    "from datetime import datetime\n",
    "import numpy as np\n",
    "import matplotlib.pyplot as plt\n",
    "import pandas as pd"
   ]
  },
  {
   "cell_type": "markdown",
   "id": "febe10ad-be16-4635-8fbc-e647a44a044d",
   "metadata": {},
   "source": [
    "## Getting the designations of known comets from MPC"
   ]
  },
  {
   "cell_type": "code",
   "execution_count": 2,
   "id": "e2b7d5e1-f524-448e-92f4-a71c2501f709",
   "metadata": {
    "scrolled": true
   },
   "outputs": [],
   "source": [
    "def get_comets_ids(clean=True):\n",
    "    # URL of the comet orbital elements file\n",
    "    url = \"https://www.minorplanetcenter.net/iau/MPCORB/CometEls.txt\"\n",
    "    # Download the file\n",
    "    response = requests.get(url)\n",
    "    response.raise_for_status()\n",
    "    lines = response.text.splitlines()\n",
    "    # Skip header (lines starting with `;`)\n",
    "    data_lines = [line for line in lines if not line.startswith(';') and line.strip()]\n",
    "    # Extract comet designation (between cols 102 and 158 characters)\n",
    "    designations = [line[102:158].strip() for line in data_lines]\n",
    "    if clean:\n",
    "        # Remove the parentheses and contents\n",
    "        designations = [re.sub(r'\\s*\\([^)]+\\)', '', c) for c in designations]\n",
    "    return designations"
   ]
  },
  {
   "cell_type": "code",
   "execution_count": 3,
   "id": "93af380f-d758-4c03-9759-57b5d70f1b59",
   "metadata": {},
   "outputs": [
    {
     "name": "stdout",
     "output_type": "stream",
     "text": [
      "Number of comets: 1199\n"
     ]
    }
   ],
   "source": [
    "comets = get_comets_ids()\n",
    "print(f\"Number of comets: {len(comets)}\")"
   ]
  },
  {
   "cell_type": "markdown",
   "id": "9cfcdc67-2444-4652-9131-c637b263f4f4",
   "metadata": {},
   "source": [
    "## Estimating number of comets visible by magnitud bin"
   ]
  },
  {
   "cell_type": "code",
   "execution_count": 4,
   "id": "e79f3a10-52fb-41e4-b441-a5a9e774b8ca",
   "metadata": {},
   "outputs": [
    {
     "data": {
      "text/html": [
       "<div>\n",
       "<style scoped>\n",
       "    .dataframe tbody tr th:only-of-type {\n",
       "        vertical-align: middle;\n",
       "    }\n",
       "\n",
       "    .dataframe tbody tr th {\n",
       "        vertical-align: top;\n",
       "    }\n",
       "\n",
       "    .dataframe thead th {\n",
       "        text-align: right;\n",
       "    }\n",
       "</style>\n",
       "<table border=\"1\" class=\"dataframe\">\n",
       "  <thead>\n",
       "    <tr style=\"text-align: right;\">\n",
       "      <th></th>\n",
       "      <th>&lt;=14</th>\n",
       "      <th>14–15</th>\n",
       "      <th>15–16</th>\n",
       "      <th>16–17</th>\n",
       "      <th>17–18</th>\n",
       "    </tr>\n",
       "    <tr>\n",
       "      <th>year</th>\n",
       "      <th></th>\n",
       "      <th></th>\n",
       "      <th></th>\n",
       "      <th></th>\n",
       "      <th></th>\n",
       "    </tr>\n",
       "  </thead>\n",
       "  <tbody>\n",
       "  </tbody>\n",
       "</table>\n",
       "</div>"
      ],
      "text/plain": [
       "Empty DataFrame\n",
       "Columns: [<=14, 14–15, 15–16, 16–17, 17–18]\n",
       "Index: []"
      ]
     },
     "execution_count": 4,
     "metadata": {},
     "output_type": "execute_result"
    }
   ],
   "source": [
    "# Magnitud bins\n",
    "mag_edges = [float('-inf'), 14, 15, 16, 17, 18]\n",
    "labels = ['year', '<=14', '14–15', '15–16', '16–17', '17–18']\n",
    "# Output definition\n",
    "comets_impacton = pd.DataFrame(columns=labels)\n",
    "comets_impacton = comets_impacton.set_index('year')\n",
    "comets_impacton"
   ]
  },
  {
   "cell_type": "code",
   "execution_count": 5,
   "id": "c6637b19-2a8b-4dce-8f72-1fdab43af831",
   "metadata": {
    "scrolled": true
   },
   "outputs": [],
   "source": [
    "def comets_per_year(year,\n",
    "                    location = \"Y28\",  # Observatory code\n",
    "                    number = 365, # One year\n",
    "                    step = \"1d\", # per day\n",
    "                    mag_edges=mag_edges, # output limits\n",
    "                    output=comets_impacton # output table\n",
    "                   ):\n",
    "    # Observation date\n",
    "    start = f\"{year}-01-01\" \n",
    "    # prepare output\n",
    "    comet_bright = []\n",
    "    comet_not_visible = []\n",
    "    # Query ephemeris\n",
    "    for comet in comets[:]:\n",
    "        try:\n",
    "            ephem = MPC.get_ephemeris(target=comet,\n",
    "                                      location=location,\n",
    "                                      start=start,\n",
    "                                      number=number,\n",
    "                                      step=step)\n",
    "            # Selecting visible epochs \n",
    "            ephem = ephem[ephem['Altitude']>30]\n",
    "            if len(ephem) > 1: \n",
    "                comet_bright.append(ephem['V'].max())\n",
    "            else:\n",
    "                comet_not_visible.append(comet)\n",
    "        except:\n",
    "            comet_not_visible.append(comet)\n",
    "    # counting number of comets per bin of magnitude\n",
    "    counts = np.histogram(comet_bright, bins=mag_edges)[0]\n",
    "    output.loc[year] = counts\n"
   ]
  },
  {
   "cell_type": "code",
   "execution_count": 6,
   "id": "9b4a7929-a894-4256-9ba9-d42be3522627",
   "metadata": {},
   "outputs": [
    {
     "name": "stdout",
     "output_type": "stream",
     "text": [
      "2020\n",
      "2021\n",
      "2022\n",
      "2023\n",
      "2024\n",
      "2025\n",
      "2026\n",
      "2027\n",
      "2028\n"
     ]
    },
    {
     "name": "stderr",
     "output_type": "stream",
     "text": [
      "/home/mario/local/anaconda3/lib/python3.12/site-packages/erfa/core.py:133: ErfaWarning: ERFA function \"dtf2d\" yielded 1 of \"dubious year (Note 6)\"\n",
      "  warn(f'ERFA function \"{func_name}\" yielded {wmsg}', ErfaWarning)\n",
      "/home/mario/local/anaconda3/lib/python3.12/site-packages/erfa/core.py:133: ErfaWarning: ERFA function \"d2dtf\" yielded 1 of \"dubious year (Note 5)\"\n",
      "  warn(f'ERFA function \"{func_name}\" yielded {wmsg}', ErfaWarning)\n",
      "/home/mario/local/anaconda3/lib/python3.12/site-packages/erfa/core.py:133: ErfaWarning: ERFA function \"dtf2d\" yielded 365 of \"dubious year (Note 6)\"\n",
      "  warn(f'ERFA function \"{func_name}\" yielded {wmsg}', ErfaWarning)\n"
     ]
    },
    {
     "name": "stdout",
     "output_type": "stream",
     "text": [
      "2029\n"
     ]
    },
    {
     "data": {
      "text/html": [
       "<div>\n",
       "<style scoped>\n",
       "    .dataframe tbody tr th:only-of-type {\n",
       "        vertical-align: middle;\n",
       "    }\n",
       "\n",
       "    .dataframe tbody tr th {\n",
       "        vertical-align: top;\n",
       "    }\n",
       "\n",
       "    .dataframe thead th {\n",
       "        text-align: right;\n",
       "    }\n",
       "</style>\n",
       "<table border=\"1\" class=\"dataframe\">\n",
       "  <thead>\n",
       "    <tr style=\"text-align: right;\">\n",
       "      <th></th>\n",
       "      <th>&lt;=14</th>\n",
       "      <th>14–15</th>\n",
       "      <th>15–16</th>\n",
       "      <th>16–17</th>\n",
       "      <th>17–18</th>\n",
       "    </tr>\n",
       "    <tr>\n",
       "      <th>year</th>\n",
       "      <th></th>\n",
       "      <th></th>\n",
       "      <th></th>\n",
       "      <th></th>\n",
       "      <th></th>\n",
       "    </tr>\n",
       "  </thead>\n",
       "  <tbody>\n",
       "    <tr>\n",
       "      <th>2020</th>\n",
       "      <td>0</td>\n",
       "      <td>4</td>\n",
       "      <td>7</td>\n",
       "      <td>10</td>\n",
       "      <td>29</td>\n",
       "    </tr>\n",
       "    <tr>\n",
       "      <th>2021</th>\n",
       "      <td>4</td>\n",
       "      <td>1</td>\n",
       "      <td>12</td>\n",
       "      <td>11</td>\n",
       "      <td>28</td>\n",
       "    </tr>\n",
       "    <tr>\n",
       "      <th>2022</th>\n",
       "      <td>7</td>\n",
       "      <td>6</td>\n",
       "      <td>5</td>\n",
       "      <td>11</td>\n",
       "      <td>22</td>\n",
       "    </tr>\n",
       "    <tr>\n",
       "      <th>2023</th>\n",
       "      <td>5</td>\n",
       "      <td>3</td>\n",
       "      <td>12</td>\n",
       "      <td>11</td>\n",
       "      <td>26</td>\n",
       "    </tr>\n",
       "    <tr>\n",
       "      <th>2024</th>\n",
       "      <td>6</td>\n",
       "      <td>4</td>\n",
       "      <td>4</td>\n",
       "      <td>7</td>\n",
       "      <td>28</td>\n",
       "    </tr>\n",
       "    <tr>\n",
       "      <th>2025</th>\n",
       "      <td>1</td>\n",
       "      <td>4</td>\n",
       "      <td>6</td>\n",
       "      <td>13</td>\n",
       "      <td>17</td>\n",
       "    </tr>\n",
       "    <tr>\n",
       "      <th>2026</th>\n",
       "      <td>1</td>\n",
       "      <td>3</td>\n",
       "      <td>1</td>\n",
       "      <td>6</td>\n",
       "      <td>23</td>\n",
       "    </tr>\n",
       "    <tr>\n",
       "      <th>2027</th>\n",
       "      <td>0</td>\n",
       "      <td>2</td>\n",
       "      <td>2</td>\n",
       "      <td>5</td>\n",
       "      <td>21</td>\n",
       "    </tr>\n",
       "    <tr>\n",
       "      <th>2028</th>\n",
       "      <td>1</td>\n",
       "      <td>3</td>\n",
       "      <td>8</td>\n",
       "      <td>6</td>\n",
       "      <td>19</td>\n",
       "    </tr>\n",
       "    <tr>\n",
       "      <th>2029</th>\n",
       "      <td>3</td>\n",
       "      <td>0</td>\n",
       "      <td>5</td>\n",
       "      <td>9</td>\n",
       "      <td>21</td>\n",
       "    </tr>\n",
       "  </tbody>\n",
       "</table>\n",
       "</div>"
      ],
      "text/plain": [
       "      <=14  14–15  15–16  16–17  17–18\n",
       "year                                  \n",
       "2020     0      4      7     10     29\n",
       "2021     4      1     12     11     28\n",
       "2022     7      6      5     11     22\n",
       "2023     5      3     12     11     26\n",
       "2024     6      4      4      7     28\n",
       "2025     1      4      6     13     17\n",
       "2026     1      3      1      6     23\n",
       "2027     0      2      2      5     21\n",
       "2028     1      3      8      6     19\n",
       "2029     3      0      5      9     21"
      ]
     },
     "execution_count": 6,
     "metadata": {},
     "output_type": "execute_result"
    }
   ],
   "source": [
    "# Estimating the number of comets in the decade\n",
    "for year in range(2020, 2030):\n",
    "    comets_per_year(year)\n",
    "    print(year)\n",
    "\n",
    "comets_impacton"
   ]
  },
  {
   "cell_type": "markdown",
   "id": "ca53aeae-6dd8-4d2c-a46a-a247000663a3",
   "metadata": {},
   "source": [
    "## Plotting the comets visible at IMPACTON per year"
   ]
  },
  {
   "cell_type": "code",
   "execution_count": 7,
   "id": "7b9fe1e6-7231-407c-bb86-216666de9288",
   "metadata": {},
   "outputs": [
    {
     "data": {
      "image/png": "[encoded data removed]",
      "text/plain": [
       "<Figure size 600x500 with 1 Axes>"
      ]
     },
     "metadata": {},
     "output_type": "display_data"
    }
   ],
   "source": [
    "# Define colors\n",
    "color_map = {\n",
    "    '<=14':     '#a6cee3',\n",
    "    '14–15':    '#1f78b4',\n",
    "    '15–16':    '#084081',\n",
    "    '16–17':    '#d8b365',\n",
    "    '17–18':    '#8c510a',\n",
    "    '>18':      '#543005',\n",
    "}\n",
    "colors = [color_map[col] for col in comets_impacton.columns]\n",
    "\n",
    "comets_impacton.plot(kind='bar', stacked=True, color=colors, figsize=(6, 5))\n",
    "plt.ylabel('Number of Comets')\n",
    "plt.tight_layout()\n",
    "plt.savefig('comets_impacton_year.png', dpi=200)\n",
    "plt.show()"
   ]
  },
  {
   "cell_type": "code",
   "execution_count": null,
   "id": "cc6a1a49-b2c8-4811-9f02-7f101affffc2",
   "metadata": {},
   "outputs": [],
   "source": []
  }
 ],
 "metadata": {
  "kernelspec": {
   "display_name": "Python 3 (ipykernel)",
   "language": "python",
   "name": "python3"
  },
  "language_info": {
   "codemirror_mode": {
    "name": "ipython",
    "version": 3
   },
   "file_extension": ".py",
   "mimetype": "text/x-python",
   "name": "python",
   "nbconvert_exporter": "python",
   "pygments_lexer": "ipython3",
   "version": "3.12.7"
  }
 },
 "nbformat": 4,
 "nbformat_minor": 5
}
